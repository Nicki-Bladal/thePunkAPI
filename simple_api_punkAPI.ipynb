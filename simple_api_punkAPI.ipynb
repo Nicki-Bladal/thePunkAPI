{
 "cells": [
  {
   "cell_type": "code",
   "execution_count": 2,
   "metadata": {},
   "outputs": [],
   "source": [
    "import json\n",
    "import requests\n",
    "import pandas as pd"
   ]
  },
  {
   "cell_type": "code",
   "execution_count": 23,
   "metadata": {
    "tags": []
   },
   "outputs": [
    {
     "output_type": "stream",
     "name": "stdout",
     "text": "True\nFalse\n"
    }
   ],
   "source": [
    "server_url = 'https://api.punkapi.com/v2/'\n",
    "\n",
    "#Attempting to import all beers in 1 request\n",
    "endpoint_path80 = 'beers?per_page=80'\n",
    "endpoint_path81 = 'beers?per_page=81'\n",
    "response_80 = requests.get(server_url + endpoint_path80)\n",
    "response_81 = requests.get(server_url + endpoint_path81)\n",
    "\n",
    "#did it work?\n",
    "print(response_80.ok)\n",
    "print(response_81.ok)"
   ]
  },
  {
   "cell_type": "code",
   "execution_count": 41,
   "metadata": {},
   "outputs": [
    {
     "output_type": "execute_result",
     "data": {
      "text/plain": "{'id': 3,\n 'name': 'Berliner Weisse With Yuzu - B-Sides',\n 'tagline': 'Japanese Citrus Berliner Weisse.',\n 'first_brewed': '11/2015',\n 'description': 'Japanese citrus fruit intensifies the sour nature of this German classic.',\n 'image_url': 'https://images.punkapi.com/v2/keg.png',\n 'abv': 4.2,\n 'ibu': 8,\n 'target_fg': 1007,\n 'target_og': 1040,\n 'ebc': 8,\n 'srm': 4,\n 'ph': 3.2,\n 'attenuation_level': 83,\n 'volume': {'value': 20, 'unit': 'litres'},\n 'boil_volume': {'value': 25, 'unit': 'litres'},\n 'method': {'mash_temp': [{'temp': {'value': 60, 'unit': 'celsius'},\n    'duration': 10},\n   {'temp': {'value': 65, 'unit': 'celsius'}, 'duration': 30},\n   {'temp': {'value': 72, 'unit': 'celsius'}, 'duration': 10},\n   {'temp': {'value': 78, 'unit': 'celsius'}, 'duration': 5}],\n  'fermentation': {'temp': {'value': 21, 'unit': 'celsius'}},\n  'twist': 'Soured naturally using the kettle souring technique, Yuzu fruit: 50g at middle, Yuzu juice: 200ml at FV'},\n 'ingredients': {'malt': [{'name': 'Propino Pale Malt',\n    'amount': {'value': 1.63, 'unit': 'kilograms'}},\n   {'name': 'Wheat Malt', 'amount': {'value': 1.63, 'unit': 'kilograms'}},\n   {'name': 'Propino Pale Malt for kettle souring',\n    'amount': {'value': 0.03, 'unit': 'kilograms'}},\n   {'name': 'Acidulated Malt for kettle souring',\n    'amount': {'value': 0.03, 'unit': 'kilograms'}}],\n  'hops': [{'name': 'Bramling Cross',\n    'amount': {'value': 10, 'unit': 'grams'},\n    'add': 'middle',\n    'attribute': 'bitter'}],\n  'yeast': 'Wyeast 1056 - American Ale™'},\n 'food_pairing': ['Smoked chicken wings', 'Miso ramen', 'Yuzu cheesecake'],\n 'brewers_tips': 'Clean everything twice. All you want is the clean sourness of lactobacillus.',\n 'contributed_by': 'Sam Mason <samjbmason>'}"
     },
     "metadata": {},
     "execution_count": 41
    }
   ],
   "source": [
    "response_80.json()[2]"
   ]
  },
  {
   "cell_type": "code",
   "execution_count": 138,
   "metadata": {
    "tags": []
   },
   "outputs": [
    {
     "output_type": "stream",
     "name": "stdout",
     "text": "loop has ended with a datafram:\n<class 'pandas.core.frame.DataFrame'>\nRangeIndex: 325 entries, 0 to 324\nData columns (total 3 columns):\n #   Column   Non-Null Count  Dtype \n---  ------   --------------  ----- \n 0   beer     325 non-null    object\n 1   tagline  325 non-null    object\n 2   json     325 non-null    object\ndtypes: object(3)\nmemory usage: 7.7+ KB\nNone\n"
    }
   ],
   "source": [
    "#Turns out that max beers per page is 80 - therefore we have to iterate over pages\n",
    "all_beers=pd.DataFrame(columns=[\"beer\",\"tagline\",\"json\"])\n",
    "page_no=1\n",
    "response_state=True\n",
    "response_not_empty=True\n",
    "\n",
    "while response_state==True & response_not_empty==True:\n",
    "    endpoint_path='beers?page=' + str(page_no) + '&per_page=80'\n",
    "    response=requests.get(server_url + endpoint_path)\n",
    "    for beer in response.json():\n",
    "        all_beers=all_beers.append({'beer': beer['name'],\"tagline\": beer['tagline'],'json': beer}, ignore_index=True)\n",
    "    page_no=page_no+1\n",
    "    response_state=response.ok\n",
    "    response_not_empty=response.json()!=[]\n",
    "else:\n",
    "    print(\"loop has ended with a datafram:\")\n",
    "    print(all_beers.info())"
   ]
  },
  {
   "cell_type": "code",
   "execution_count": 142,
   "metadata": {},
   "outputs": [],
   "source": [
    "all_beers.to_csv(\"beers_from_api.csv\")"
   ]
  },
  {
   "cell_type": "code",
   "execution_count": null,
   "metadata": {},
   "outputs": [],
   "source": []
  }
 ],
 "metadata": {
  "language_info": {
   "codemirror_mode": {
    "name": "ipython",
    "version": 3
   },
   "file_extension": ".py",
   "mimetype": "text/x-python",
   "name": "python",
   "nbconvert_exporter": "python",
   "pygments_lexer": "ipython3",
   "version": "3.7.6-final"
  },
  "orig_nbformat": 2,
  "kernelspec": {
   "name": "python37664bitbaseconda8323ff0e61ae4a6b8857dd46a341f977",
   "display_name": "Python 3.7.6 64-bit ('base': conda)"
  }
 },
 "nbformat": 4,
 "nbformat_minor": 2
}